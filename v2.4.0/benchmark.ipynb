{
 "cells": [
  {
   "cell_type": "code",
   "execution_count": null,
   "metadata": {},
   "outputs": [],
   "source": [
    "import iris\n",
    "from iris.analysis import AreaWeighted\n",
    "from iris.analysis.trajectory import interpolate\n",
    "import numpy as np\n",
    "import timeit"
   ]
  },
  {
   "cell_type": "code",
   "execution_count": null,
   "metadata": {},
   "outputs": [],
   "source": [
    "iris.__version__"
   ]
  },
  {
   "cell_type": "code",
   "execution_count": null,
   "metadata": {},
   "outputs": [],
   "source": [
    "# from iris-test-data/test_data/NetCDF\n",
    "fname = \"SMALL_hires_wind_u_for_ipcc4.nc\""
   ]
  },
  {
   "cell_type": "code",
   "execution_count": null,
   "metadata": {},
   "outputs": [],
   "source": [
    "cube = iris.load_cube(fname)[0]"
   ]
  },
  {
   "cell_type": "code",
   "execution_count": null,
   "metadata": {},
   "outputs": [],
   "source": [
    "cube.shape"
   ]
  },
  {
   "cell_type": "code",
   "execution_count": null,
   "metadata": {},
   "outputs": [],
   "source": [
    "cube"
   ]
  },
  {
   "cell_type": "code",
   "execution_count": null,
   "metadata": {},
   "outputs": [],
   "source": [
    "scheme = AreaWeighted()\n",
    "regridder = scheme.regridder(cube, cube)"
   ]
  },
  {
   "cell_type": "code",
   "execution_count": null,
   "metadata": {},
   "outputs": [],
   "source": [
    "# v2.4.0\n",
    "hi2lo_24 = {'1:1': 0.622, '2:1': 0.109, '3:1': 0.110, '4:1': 0.117, '5:1': 0.129, '10:1': 0.215, '20:1': 0.551}\n",
    "lo2hi_24 = {'1:1': 0.622, '1:2': 1.18,  '1:3': 2.57,  '1:4': 4.68,  '1:5': 7.14,  '1:10': 29.4,  '1:20': 123.0}\n",
    "\n",
    "# v2.3.0\n",
    "hi2lo_23 = {'1:1': 8.1, '2:1': 3.45, '3:1': 3.43, '4:1':3.42, '5:1': 3.39, '10:1': 3.37, '20:1': 0}\n",
    "lo2hi_23 = {'1:1': 8.1, '1:2': 13.7, '1:3': 31.5, '1:4':54.7, '1:5': 81.0, '1:10': 329.0, '1:20': 0}"
   ]
  },
  {
   "cell_type": "code",
   "execution_count": null,
   "metadata": {},
   "outputs": [],
   "source": [
    "%%timeit -n 3 -r 3\n",
    "\n",
    "regridder(cube)"
   ]
  },
  {
   "cell_type": "code",
   "execution_count": null,
   "metadata": {},
   "outputs": [],
   "source": [
    "def doit(cube, factor):\n",
    "    print(f'in  = {cube.shape}')\n",
    "    shape = cube.shape\n",
    "    plat = cube.coord('latitude').points\n",
    "    plon = cube.coord('longitude').points\n",
    "    sample_points = [('latitude',  np.linspace(plat[0], plon[-1], shape[0]*factor))]\n",
    "    cube_2_1 = interpolate(cube, sample_points)\n",
    "    sample_points = [('longitude', np.linspace(plon[0], plon[-1], shape[1]*factor))]\n",
    "    cube_2_1 = interpolate(cube_2_1, sample_points)\n",
    "\n",
    "    lat = cube_2_1.coord('latitude')\n",
    "    lat = iris.coords.Coord.from_coord(lat)\n",
    "    lat.bounds = None\n",
    "    lat.guess_bounds()\n",
    "    cube_2_1.remove_coord('latitude')\n",
    "    cube_2_1.add_dim_coord(lat, 0)\n",
    "\n",
    "    lon = cube_2_1.coord('longitude')\n",
    "    lon = iris.coords.Coord.from_coord(lon)\n",
    "    lon.bounds = None\n",
    "    lon.guess_bounds()\n",
    "    cube_2_1.remove_coord('longitude')\n",
    "    cube_2_1.add_dim_coord(lon, 1)\n",
    "\n",
    "    print(f'out = {cube_2_1.shape}')\n",
    "    return cube_2_1"
   ]
  },
  {
   "cell_type": "code",
   "execution_count": null,
   "metadata": {},
   "outputs": [],
   "source": [
    "cube_2 = doit(cube, 2)\n",
    "scheme_2_1 = AreaWeighted()\n",
    "regridder_2_1 = scheme_2_1.regridder(cube_2, cube)\n",
    "scheme_1_2 = AreaWeighted()\n",
    "regridder_1_2 = scheme_1_2.regridder(cube, cube_2)"
   ]
  },
  {
   "cell_type": "code",
   "execution_count": null,
   "metadata": {},
   "outputs": [],
   "source": [
    "%%timeit -n 3 -r 1\n",
    "\n",
    "regridder_2_1(cube_2)"
   ]
  },
  {
   "cell_type": "code",
   "execution_count": null,
   "metadata": {},
   "outputs": [],
   "source": [
    "%%timeit -n 3 -r 1\n",
    "\n",
    "regridder_1_2(cube)"
   ]
  },
  {
   "cell_type": "code",
   "execution_count": null,
   "metadata": {},
   "outputs": [],
   "source": [
    "cube_3 = doit(cube, 3)\n",
    "scheme_3_1 = AreaWeighted()\n",
    "regridder_3_1 = scheme_3_1.regridder(cube_3, cube)\n",
    "scheme_1_3 = AreaWeighted()\n",
    "regridder_1_3 = scheme_1_3.regridder(cube, cube_3)"
   ]
  },
  {
   "cell_type": "code",
   "execution_count": null,
   "metadata": {},
   "outputs": [],
   "source": [
    "%%timeit -n 3 -r 3\n",
    "\n",
    "regridder_3_1(cube_3)"
   ]
  },
  {
   "cell_type": "code",
   "execution_count": null,
   "metadata": {},
   "outputs": [],
   "source": [
    "%%timeit -n 3 -r 3\n",
    "\n",
    "regridder_1_3(cube)"
   ]
  },
  {
   "cell_type": "code",
   "execution_count": null,
   "metadata": {},
   "outputs": [],
   "source": [
    "cube_4 = doit(cube, 4)\n",
    "scheme_4_1 = AreaWeighted()\n",
    "regridder_4_1 = scheme_4_1.regridder(cube_4, cube)\n",
    "scheme_1_4 = AreaWeighted()\n",
    "regridder_1_4 = scheme_1_4.regridder(cube, cube_4)"
   ]
  },
  {
   "cell_type": "code",
   "execution_count": null,
   "metadata": {},
   "outputs": [],
   "source": [
    "%%timeit -n 3 -r 3\n",
    "\n",
    "regridder_4_1(cube_4)"
   ]
  },
  {
   "cell_type": "code",
   "execution_count": null,
   "metadata": {},
   "outputs": [],
   "source": [
    "%%timeit -n 3 -r 1\n",
    "\n",
    "regridder_1_4(cube)"
   ]
  },
  {
   "cell_type": "code",
   "execution_count": null,
   "metadata": {},
   "outputs": [],
   "source": [
    "cube_5 = doit(cube, 5)\n",
    "scheme_5_1 = AreaWeighted()\n",
    "regridder_5_1 = scheme_5_1.regridder(cube_5, cube)\n",
    "scheme_1_5 = AreaWeighted()\n",
    "regridder_1_5 = scheme_1_5.regridder(cube, cube_5)"
   ]
  },
  {
   "cell_type": "code",
   "execution_count": null,
   "metadata": {},
   "outputs": [],
   "source": [
    "%%timeit -n 3 -r 3\n",
    "\n",
    "regridder_5_1(cube_5)"
   ]
  },
  {
   "cell_type": "code",
   "execution_count": null,
   "metadata": {},
   "outputs": [],
   "source": [
    "%%timeit -n 3 -r 3\n",
    "\n",
    "regridder_1_5(cube)"
   ]
  },
  {
   "cell_type": "code",
   "execution_count": null,
   "metadata": {},
   "outputs": [],
   "source": [
    "cube_10 = doit(cube, 10)\n",
    "scheme_10_1 = AreaWeighted()\n",
    "regridder_10_1 = scheme_10_1.regridder(cube_10, cube)\n",
    "scheme_1_10 = AreaWeighted()\n",
    "regridder_1_10 = scheme_1_10.regridder(cube, cube_10)"
   ]
  },
  {
   "cell_type": "code",
   "execution_count": null,
   "metadata": {},
   "outputs": [],
   "source": [
    "%%timeit -n 3 -r 3\n",
    "\n",
    "regridder_10_1(cube_10)"
   ]
  },
  {
   "cell_type": "code",
   "execution_count": null,
   "metadata": {},
   "outputs": [],
   "source": [
    "%%timeit -n 1 -r 3\n",
    "\n",
    "regridder_1_10(cube)"
   ]
  },
  {
   "cell_type": "code",
   "execution_count": null,
   "metadata": {},
   "outputs": [],
   "source": [
    "cube_20 = doit(cube, 20)\n",
    "scheme_20_1 = AreaWeighted()\n",
    "regridder_20_1 = scheme_20_1.regridder(cube_20, cube)\n",
    "scheme_1_20 = AreaWeighted()\n",
    "regridder_1_20 = scheme_1_20.regridder(cube, cube_20)"
   ]
  },
  {
   "cell_type": "code",
   "execution_count": null,
   "metadata": {},
   "outputs": [],
   "source": [
    "%%timeit -n 3 -r 3\n",
    "\n",
    "regridder_20_1(cube_20)"
   ]
  },
  {
   "cell_type": "code",
   "execution_count": null,
   "metadata": {},
   "outputs": [],
   "source": [
    "%%timeit -n 3 -r 3\n",
    "\n",
    "regridder_1_20(cube)"
   ]
  },
  {
   "cell_type": "code",
   "execution_count": null,
   "metadata": {},
   "outputs": [],
   "source": [
    "hi2lo_24 = [0.622, 0.109, 0.110, 0.117, 0.129, 0.215]\n",
    "hi2lo_23 = [8.1,   3.45,  3.43,  3.42,  3.39,  3.37]\n",
    "\n",
    "lo2hi_24 = [0.622, 1.18,  2.57,  4.68,  7.14,  29.4]\n",
    "lo2hi_23 = [8.1,   13.7,  31.5,  54.7,  81.0,  329.0]"
   ]
  },
  {
   "cell_type": "code",
   "execution_count": null,
   "metadata": {},
   "outputs": [],
   "source": [
    "%matplotlib notebook"
   ]
  },
  {
   "cell_type": "code",
   "execution_count": null,
   "metadata": {},
   "outputs": [],
   "source": [
    "import numpy as np\n",
    "import matplotlib.pyplot as plt\n",
    "from matplotlib.lines import Line2D\n",
    "import matplotlib.animation as animation\n",
    "from matplotlib.collections import PolyCollection\n",
    "from scipy.interpolate import interp1d\n",
    "\n",
    "\n",
    "class SubplotAnimation(animation.TimedAnimation):\n",
    "    def __init__(self):\n",
    "        self.hi2lo_24 = [0.622, 0.109, 0.110, 0.117, 0.129, 0.215]\n",
    "        self.hi2lo_23 = [8.1,   3.45,  3.43,  3.42,  3.39,  3.37]\n",
    "        self.lo2hi_24 = [0.622, 1.18,  2.57,  4.68,  7.14,  29.4]\n",
    "        self.lo2hi_23 = [8.1,   13.7,  31.5,  54.7,  81.0,  329.0]\n",
    "        \n",
    "        assert len(self.hi2lo_24) == len(self.hi2lo_23) == len(self.lo2hi_24) == len(self.lo2hi_23)\n",
    "        \n",
    "        self.xmin, self.xmax = 0, len(self.lo2hi_24) - 1\n",
    "        self.xticks = list(range(self.xmax + 1))\n",
    "        \n",
    "        self.f_hi2lo_24 = interp1d(self.xticks, self.hi2lo_24)\n",
    "        self.f_hi2lo_23 = interp1d(self.xticks, hi2lo_23)\n",
    "        self.f_lo2hi_24 = interp1d(self.xticks, lo2hi_24)\n",
    "        self.f_lo2hi_23 = interp1d(self.xticks, lo2hi_23)\n",
    "        \n",
    "        self.xdata = []\n",
    "        self.ydata_hi2lo_24 = []\n",
    "        self.ydata_hi2lo_23 = []\n",
    "        self.ydata_lo2hi_24 = []\n",
    "        self.ydata_lo2hi_23 = []\n",
    "        \n",
    "        #fig = plt.figure()\n",
    "        #ax1 = fig.add_subplot(1, 2, 1)\n",
    "        #ax2 = fig.add_subplot(1, 2, 2)\n",
    "        \n",
    "        width_ratios = [1, 1]\n",
    "        height_ratios = [0, 0.90, 0.10]\n",
    "        gridspec_kw = dict(width_ratios=width_ratios, height_ratios=height_ratios)\n",
    "        fig, axes = plt.subplots(ncols=2, nrows=3, constrained_layout=False, gridspec_kw=gridspec_kw, figsize=(8, 4))\n",
    "        dummy1, (ax1, ax2), dummy2 = axes\n",
    "        [ax.remove() for ax in list(dummy1) + list(dummy2)]\n",
    "        \n",
    "        self.lines = []\n",
    "        self.sliders = [Line2D([], [], marker='o', color=\"r\", markeredgecolor=\"r\", markersize=6, zorder=10) for _ in range(4)]\n",
    "        self.markers = [Line2D([], [], marker='s', color=\"k\", markeredgecolor=\"k\", markersize=4) for _ in range(24)]\n",
    "        self.cursors = [Line2D([], [], lw=1, linestyle=\"--\", color=\"orange\"),\n",
    "                        Line2D([], [], lw=1, linestyle=\"--\", color=\"blue\"),\n",
    "                        Line2D([], [], lw=1, linestyle=\"--\", color=\"orange\"),\n",
    "                        Line2D([], [], lw=1, linestyle=\"--\", color=\"blue\")]\n",
    "        \n",
    "        ax1.set_title(\"High to Low Resolution\", fontsize=10)\n",
    "        ax1.set_xlabel(r\"src:$tgt^\\dagger$ ratio\")\n",
    "        ax1.set_xticks(self.xticks)\n",
    "        ax1.set_xticklabels([\"1:1\", \"2:1\", \"3:1\", \"4:1\", \"5:1\", \"10:1\"])\n",
    "        ax1.set_yticks([0, 2, 4, 6, 8])\n",
    "        ax1.set_ylabel(\"time / seconds\")\n",
    "        self.line_hi2lo_24 = Line2D([], [], lw=2, color=\"orange\")\n",
    "        self.lines.append(self.line_hi2lo_24)\n",
    "        self.line_hi2lo_23 = Line2D([], [], lw=2, color=\"blue\")\n",
    "        self.lines.append(self.line_hi2lo_23)\n",
    "        ax1.add_line(self.line_hi2lo_24)\n",
    "        ax1.add_line(self.line_hi2lo_23)\n",
    "        [ax1.add_line(marker) for marker in self.sliders[:2]]\n",
    "        [ax1.add_line(marker) for marker in self.markers[:12]]\n",
    "        [ax1.add_line(cursor) for cursor in self.cursors[:2]]\n",
    "        ax1.set_xlim(self.xmin - 1, self.xmax + 1)\n",
    "        ax1.set_ylim(-0.25, 10)\n",
    "        ax1.legend([self.line_hi2lo_23, self.line_hi2lo_24],\n",
    "                   [\"iris 2.3.0\", \"iris 2.4.0\"])\n",
    "        ax1.grid()\n",
    "        \n",
    "        ax2.set_title(\"Low to High Resolution\", fontsize=10)\n",
    "        ax2.set_xlabel(r\"$src^\\dagger$:tgt ratio\")\n",
    "        ax2.set_xticks(self.xticks)\n",
    "        ax2.set_xticklabels([\"1:1\", \"1:2\", \"1:3\", \"1:4\", \"1:5\", \"1:10\"])\n",
    "        ax2.set_ylabel(\"time / seconds\")\n",
    "        ax2.yaxis.set_label_position(\"right\")\n",
    "        ax2.yaxis.tick_right()\n",
    "        self.line_lo2hi_24 = Line2D([], [], lw=2, color=\"orange\")\n",
    "        self.lines.append(self.line_lo2hi_24)\n",
    "        self.line_lo2hi_23 = Line2D([], [], lw=2, color=\"blue\")\n",
    "        self.lines.append(self.line_lo2hi_23)\n",
    "        ax2.add_line(self.line_lo2hi_24)\n",
    "        ax2.add_line(self.line_lo2hi_23)\n",
    "        [ax2.add_line(marker) for marker in self.sliders[2:]]\n",
    "        [ax2.add_line(marker) for marker in self.markers[12:]]\n",
    "        [ax2.add_line(cursor) for cursor in self.cursors[2:]]\n",
    "        ax2.set_xlim(self.xmin - 1, self.xmax + 1)\n",
    "        ax2.set_ylim(-10, 340)\n",
    "        ax2.legend([self.line_lo2hi_23, self.line_lo2hi_24],\n",
    "                   [\"iris 2.3.0\", \"iris 2.4.0\"],\n",
    "                   loc=\"upper left\")\n",
    "        ax2.grid()\n",
    "        \n",
    "        fig.suptitle(\"Benchmark: iris.analysis.AreaWeighted regridding scheme\")\n",
    "        \n",
    "        txt = r\"$\\dagger$ \"\n",
    "        txt += \"Using 2D Iris cube, shape (y:160, x:320)\\n\"\n",
    "        #txt += r\"$\\bullet$ \"\n",
    "        txt += \"Benchmarked on 4x Intel(R) Xeon(R) CPU E5-2690 v4 @ 2.60GHz, 6GB, RHEL 7.7 (Maipo)\"\n",
    "        fig.text(.5, .03, txt, ha='center', fontsize=8)\n",
    "        \n",
    "        self.ax1 = ax1\n",
    "        self.ax2 = ax2\n",
    "        \n",
    "        animation.TimedAnimation.__init__(self, fig, interval=50, repeat=False, blit=True)\n",
    "\n",
    "    def plot_markers(self, x):\n",
    "        if not self.xticks and x == self.xmin:\n",
    "            self.xticks = list(range(self.xmax + 1))\n",
    "            \n",
    "        if self.xticks and x >= self.xticks[0]:\n",
    "            offset = self.xmax + 1\n",
    "            xtick = self.xticks.pop(0)\n",
    "            self.markers[xtick + offset*0].set_data(x, self.ydata_hi2lo_24[-1])\n",
    "            self.markers[xtick + offset*1].set_data(x, self.ydata_hi2lo_23[-1])\n",
    "            self.markers[xtick + offset*2].set_data(x, self.ydata_lo2hi_24[-1])\n",
    "            self.markers[xtick + offset*3].set_data(x, self.ydata_lo2hi_23[-1])\n",
    "        \n",
    "        if x >= self.xmax:\n",
    "            for marker in self.sliders:\n",
    "                marker.set_visible(False)\n",
    "        \n",
    "    def _draw_frame(self, x):\n",
    "        if x <= self.xmax:\n",
    "            self.xdata.append(x)\n",
    "\n",
    "            y = self.f_hi2lo_24(x)\n",
    "            self.sliders[0].set_data(x, y)\n",
    "            self.ydata_hi2lo_24.append(y)\n",
    "            self.line_hi2lo_24.set_data(self.xdata, self.ydata_hi2lo_24)\n",
    "        \n",
    "            y = self.f_hi2lo_23(x)\n",
    "            self.sliders[1].set_data(x, y)\n",
    "            self.ydata_hi2lo_23.append(y)\n",
    "            self.line_hi2lo_23.set_data(self.xdata, self.ydata_hi2lo_23)\n",
    "\n",
    "            y = self.f_lo2hi_24(x)\n",
    "            self.sliders[2].set_data(x, y)\n",
    "            self.ydata_lo2hi_24.append(y)\n",
    "            self.line_lo2hi_24.set_data(self.xdata, self.ydata_lo2hi_24)\n",
    "        \n",
    "            y = self.f_lo2hi_23(x)\n",
    "            self.sliders[3].set_data(x, y)\n",
    "            self.ydata_lo2hi_23.append(y)\n",
    "            self.line_lo2hi_23.set_data(self.xdata, self.ydata_lo2hi_23)\n",
    "        \n",
    "        self.plot_markers(x)\n",
    "        \n",
    "        if x <= self.xmax:\n",
    "            self.cursors[0].set_data(self.ax1.get_xlim(), [self.ydata_hi2lo_24[-1]]*2)\n",
    "            self.cursors[1].set_data(self.ax1.get_xlim(), [self.ydata_hi2lo_23[-1]]*2)\n",
    "            self.cursors[2].set_data(self.ax2.get_xlim(), [self.ydata_lo2hi_24[-1]]*2)\n",
    "            self.cursors[3].set_data(self.ax2.get_xlim(), [self.ydata_lo2hi_23[-1]]*2)\n",
    "        else:\n",
    "            visible = True\n",
    "            self.cursors[0].set_visible(visible)\n",
    "            self.cursors[1].set_visible(visible)\n",
    "            self.cursors[2].set_visible(visible)\n",
    "            self.cursors[3].set_visible(visible)\n",
    "        \n",
    "        self._drawn_artists = self.lines + self.markers + self.sliders + self.cursors\n",
    "\n",
    "    def new_frame_seq(self):\n",
    "        return iter(np.linspace(self.xmin, self.xmax+2, 150))\n",
    "\n",
    "    def _init_draw(self):\n",
    "        for line in self.lines:\n",
    "            line.set_data([], [])\n",
    "        for marker in self.markers:\n",
    "            marker.set_data([], [])\n",
    "        for marker in self.sliders:\n",
    "            marker.set_data([], [])\n",
    "        for cursor in self.cursors:\n",
    "            cursor.set_data([], [])\n",
    "\n",
    "        \n",
    "ani = SubplotAnimation()\n",
    "#ani.save(\"twitter.mp4\")"
   ]
  },
  {
   "cell_type": "code",
   "execution_count": null,
   "metadata": {},
   "outputs": [],
   "source": []
  }
 ],
 "metadata": {
  "kernelspec": {
   "display_name": "Python 3",
   "language": "python",
   "name": "python3"
  },
  "language_info": {
   "codemirror_mode": {
    "name": "ipython",
    "version": 3
   },
   "file_extension": ".py",
   "mimetype": "text/x-python",
   "name": "python",
   "nbconvert_exporter": "python",
   "pygments_lexer": "ipython3",
   "version": "3.7.3"
  }
 },
 "nbformat": 4,
 "nbformat_minor": 2
}
